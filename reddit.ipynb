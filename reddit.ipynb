{
 "metadata": {
  "language_info": {
   "codemirror_mode": {
    "name": "ipython",
    "version": 3
   },
   "file_extension": ".py",
   "mimetype": "text/x-python",
   "name": "python",
   "nbconvert_exporter": "python",
   "pygments_lexer": "ipython3",
   "version": "3.8.5-final"
  },
  "orig_nbformat": 2,
  "kernelspec": {
   "name": "python3",
   "display_name": "Python 3",
   "language": "python"
  }
 },
 "nbformat": 4,
 "nbformat_minor": 2,
 "cells": [
  {
   "cell_type": "code",
   "execution_count": 28,
   "metadata": {},
   "outputs": [],
   "source": [
    "\n",
    "from collections import Counter\n",
    "import numpy as np\n",
    "\n",
    "\n",
    "import csv\n",
    "import pandas as pd"
   ]
  },
  {
   "cell_type": "code",
   "execution_count": 29,
   "metadata": {},
   "outputs": [
    {
     "output_type": "execute_result",
     "data": {
      "text/plain": [
       "<Response [200]>"
      ]
     },
     "metadata": {},
     "execution_count": 29
    }
   ],
   "source": [
    "import requests\n",
    "#    url = 'https://www.reddit.com/r/wallstreetbets/search/?q=flair%3A%22Daily%20Discussion%22&restrict_sr=1&sort=new'\n",
    "url = 'https://www.reddit.com/r/wallstreetbets/search?q=flair_name%3A%22Daily%20Discussion%22&restrict_sr=1&sort=new'\n",
    "requests.get(url)"
   ]
  },
  {
   "cell_type": "code",
   "execution_count": 30,
   "metadata": {
    "tags": [
     "outputPrepend"
    ]
   },
   "outputs": [
    {
     "output_type": "stream",
     "name": "stdout",
     "text": [
      "\"enabled\",\"version\":\"6\"},\"ios_econ_prediction_sheet_header\":{\"id\":1659,\"name\":\"ios_econ_prediction_sheet_header\",\"variant\":\"enabled\",\"version\":\"2\"},\"ios_gql_badges_v2\":{\"id\":672,\"name\":\"ios_gql_badges_v2\",\"variant\":\"enabled\",\"version\":\"13\"},\"ios_location_recommendations_toggle\":{\"id\":966,\"name\":\"ios_location_recommendations_toggle\",\"variant\":\"enabled\",\"version\":\"3\"},\"ios_new_community_progress\":{\"id\":1518,\"name\":\"ios_new_community_progress\",\"variant\":\"enabled\",\"version\":\"2\"},\"ios_rpan_award_presence\":{\"id\":764,\"name\":\"ios_rpan_award_presence\",\"variant\":\"enabled\",\"version\":\"3\"},\"ios_rpan_broadcaster_award_presence\":{\"id\":873,\"name\":\"ios_rpan_broadcaster_award_presence\",\"variant\":\"enabled\",\"version\":\"3\"},\"ios_rpan_chat_award_presence\":{\"id\":774,\"name\":\"ios_rpan_chat_award_presence\",\"variant\":\"enabled\",\"version\":\"3\"},\"ios_share_message_action\":{\"id\":451,\"name\":\"ios_share_message_action\",\"variant\":\"link\",\"version\":\"10\"},\"ios_subreddit_mentions_v2\":{\"id\":381,\"name\":\"ios_subreddit_mentions_v2\",\"variant\":\"sm_with_icon\",\"version\":\"9\"},\"iso_community_creation_v1\":{\"id\":761,\"name\":\"iso_community_creation_v1\",\"variant\":\"enabled\",\"version\":\"2\"},\"kickbox_digest\":{\"id\":1063,\"name\":\"kickbox_digest\",\"variant\":\"non_multi_digest\",\"version\":\"19\"},\"mailgun_to_ses_message_email\":{\"id\":1489,\"name\":\"mailgun_to_ses_message_email\",\"variant\":\"enabled\",\"version\":\"10\"},\"mailroom_email_verification_token\":{\"id\":894,\"name\":\"mailroom_email_verification_token\",\"variant\":\"enabled\",\"version\":\"12\"},\"mixed_content_home_feed\":{\"id\":1381,\"name\":\"mixed_content_home_feed\",\"variant\":\"enabled\",\"version\":\"6\"},\"mixed_content_subreddit_feed\":{\"id\":1650,\"name\":\"mixed_content_subreddit_feed\",\"variant\":\"enabled\",\"version\":\"5\"},\"ml_popular_strategy_experiment_v3\":{\"id\":1732,\"name\":\"ml_popular_strategy_experiment_v3\",\"variant\":\"control_2\",\"version\":\"4\"},\"mobile_gallery_click_pixel\":{\"id\":1633,\"name\":\"mobile_gallery_click_pixel\",\"variant\":\"enabled\",\"version\":\"8\"},\"mweb_am_refactoring\":{\"id\":1545,\"name\":\"mweb_am_refactoring\",\"variant\":\"enabled\",\"version\":\"4\"},\"mweb_android_nsfw_abm_v1\":{\"id\":1306,\"name\":\"mweb_android_nsfw_abm_v1\",\"variant\":\"abm_blocking\",\"version\":\"3\"},\"mweb_awarding\":{\"id\":658,\"name\":\"mweb_awarding\",\"variant\":\"enabled\",\"version\":\"6\"},\"mweb_best_sort_popular\":{\"id\":1119,\"name\":\"mweb_best_sort_popular\",\"variant\":\"enabled\",\"version\":\"30\"},\"mweb_comment_action_bar_login\":{\"id\":738,\"name\":\"mweb_comment_action_bar_login\",\"variant\":\"active\",\"version\":\"3\"},\"mweb_comment_action_bar_logout\":{\"id\":737,\"name\":\"mweb_comment_action_bar_logout\",\"variant\":\"active\",\"version\":\"3\"},\"mweb_comments_page_ads\":{\"id\":850,\"name\":\"mweb_comments_page_ads\",\"variant\":\"enabled\",\"version\":\"4\"},\"mweb_comments_ui_login\":{\"id\":742,\"name\":\"mweb_comments_ui_login\",\"variant\":\"active\",\"version\":\"3\"},\"mweb_comments_ui_logout\":{\"id\":741,\"name\":\"mweb_comments_ui_logout\",\"variant\":\"active\",\"version\":\"3\"},\"mweb_crawler_events\":{\"id\":1244,\"name\":\"mweb_crawler_events\",\"variant\":\"enabled\",\"version\":\"2\"},\"mweb_geo_blocking\":{\"id\":665,\"name\":\"mweb_geo_blocking\",\"variant\":\"preview_app\",\"version\":\"9\"},\"mweb_google_onetap\":{\"id\":1407,\"name\":\"mweb_google_onetap\",\"variant\":\"onetap_auto\",\"version\":\"3\"},\"mweb_ios_nsfw_abm_v1\":{\"id\":1307,\"name\":\"mweb_ios_nsfw_abm_v1\",\"variant\":\"abm_blocking\",\"version\":\"2\"},\"mweb_ios_nsfw_blocking_v2\":{\"id\":1128,\"name\":\"mweb_ios_nsfw_blocking_v2\",\"variant\":\"default_view_install\",\"version\":\"11\"},\"mweb_language_selector\":{\"id\":1524,\"name\":\"mweb_language_selector\",\"variant\":\"control_1\",\"version\":\"14\"},\"mweb_navigation_updates_li\":{\"id\":698,\"name\":\"mweb_navigation_updates_li\",\"variant\":\"active\",\"version\":\"3\"},\"mweb_nps_survey_dismiss_post_trigger\":{\"id\":1298,\"name\":\"mweb_nps_survey_dismiss_post_trigger\",\"variant\":\"enabled\",\"version\":\"24\"},\"mweb_nsfw_blocking_seo\":{\"id\":1583,\"name\":\"mweb_nsfw_blocking_seo\",\"variant\":\"default_view_install_25_seconds\",\"version\":\"6\"},\"mweb_ocr_backfill\":{\"id\":1711,\"name\":\"mweb_ocr_backfill\",\"variant\":\"enabled\",\"version\":\"5\"},\"mweb_post_unit_redesign_v2\":{\"id\":904,\"name\":\"mweb_post_unit_redesign_v2\",\"variant\":\"active\",\"version\":\"12\"},\"mweb_search_events\":{\"id\":1344,\"name\":\"mweb_search_events\",\"variant\":\"control_1\",\"version\":\"7\"},\"mweb_sso_login_link\":{\"id\":1363,\"name\":\"mweb_sso_login_link\",\"variant\":\"enabled\",\"version\":\"2\"},\"mweb_welcome_screen_geo_sso\":{\"id\":1395,\"name\":\"mweb_welcome_screen_geo_sso\",\"variant\":\"block_with_cta\",\"version\":\"2\"},\"my_first\":{\"id\":4,\"name\":\"my_first\",\"variant\":\"green_popup\",\"version\":\"80\"},\"ncp_load_test\":{\"id\":1513,\"name\":\"ncp_load_test\",\"variant\":\"enabled\",\"version\":\"10\"},\"ncp_traditions_card\":{\"id\":1541,\"name\":\"ncp_traditions_card\",\"variant\":\"enabled\",\"version\":\"4\"},\"new_community_progress_module\":{\"id\":1444,\"name\":\"new_community_progress_module\",\"variant\":\"ncp_module\",\"version\":\"4\"},\"new_media_transitions\":{\"id\":212,\"name\":\"new_media_transitions\",\"variant\":\"enabled\",\"version\":\"5\"},\"one_feed_experiment_v1\":{\"id\":1556,\"name\":\"one_feed_experiment_V1\",\"variant\":\"control_2\",\"version\":\"10\"},\"otp_status_enabled_email\":{\"id\":1410,\"name\":\"otp_status_enabled_email\",\"variant\":\"enabled\",\"version\":\"6\"},\"password_reset_template_revamped\":{\"id\":1123,\"name\":\"password_reset_template_revamped\",\"variant\":\"enabled\",\"version\":\"8\"},\"post_action_bar_animation_v2_revised\":{\"id\":1767,\"name\":\"post_action_bar_animation_v2_revised\",\"variant\":\"control_1\",\"version\":\"3\"},\"post_level_crowd_control\":{\"id\":890,\"name\":\"post_level_crowd_control\",\"variant\":\"enabled\",\"version\":\"4\"},\"post_search_v2\":{\"id\":918,\"name\":\"post_search_v2\",\"variant\":\"post_search_v2\",\"version\":\"11\"},\"rcv3_rollout\":{\"id\":1112,\"name\":\"rcv3_rollout\",\"variant\":\"enabled\",\"version\":\"13\"},\"rpan_abr_broadcast_android\":{\"id\":908,\"name\":\"rpan_abr_broadcast_android\",\"variant\":\"enabled\",\"version\":\"15\"},\"rpan_abr_broadcast_ios\":{\"id\":875,\"name\":\"rpan_abr_broadcast_ios\",\"variant\":\"enabled\",\"version\":\"8\"},\"rpan_auto_mute_web\":{\"id\":1291,\"name\":\"rpan_auto_mute_web\",\"variant\":\"rule_and_warnings\",\"version\":\"5\"},\"rpan_broadcaster_auto_selection_ios\":{\"id\":1299,\"name\":\"rpan_broadcaster_auto_selection_ios\",\"variant\":\"enabled\",\"version\":\"2\"},\"rpan_broadcaster_profile_ios\":{\"id\":1476,\"name\":\"rpan_broadcaster_profile_ios\",\"variant\":\"enabled\",\"version\":\"5\"},\"rpan_du_preload_d2x\":{\"id\":1671,\"name\":\"rpan_du_preload_d2x\",\"variant\":\"enabled\",\"version\":\"3\"},\"rpan_du_volume_toggle_web\":{\"id\":1148,\"name\":\"rpan_du_volume_toggle_web\",\"variant\":\"enabled\",\"version\":\"2\"},\"rpan_entry_point\":{\"id\":300,\"name\":\"rpan_entry_point\",\"variant\":\"enabled\",\"version\":\"192\"},\"rpan_entry_point_ui\":{\"id\":796,\"name\":\"rpan_entry_point_ui\",\"variant\":\"watching_in_top_left\",\"version\":\"5\"},\"rpan_entry_point_ui_ios\":{\"id\":1103,\"name\":\"rpan_entry_point_ui_ios\",\"variant\":\"watching_in_top_left\",\"version\":\"4\"},\"rpan_global_du_watcher_d2x\":{\"id\":1600,\"name\":\"rpan_global_du_watcher_d2x\",\"variant\":\"enabled\",\"version\":\"3\"},\"rpan_loading_animation_android\":{\"id\":1283,\"name\":\"rpan_loading_animation_android\",\"variant\":\"enabled\",\"version\":\"5\"},\"rpan_loading_animation_ios\":{\"id\":1279,\"name\":\"rpan_loading_animation_ios\",\"variant\":\"enabled\",\"version\":\"5\"},\"rpan_loading_animation_web\":{\"id\":1341,\"name\":\"rpan_loading_animation_web\",\"variant\":\"enabled\",\"version\":\"4\"},\"rpan_nav\":{\"id\":449,\"name\":\"rpan_nav\",\"variant\":\"enabled\",\"version\":\"5\"},\"rpan_new_volume_policy_android\":{\"id\":1145,\"name\":\"rpan_new_volume_policy_android\",\"variant\":\"enabled\",\"version\":\"4\"},\"rpan_new_volume_policy_ios\":{\"id\":1144,\"name\":\"rpan_new_volume_policy_ios\",\"variant\":\"enabled\",\"version\":\"3\"},\"rpan_new_volume_policy_web\":{\"id\":1084,\"name\":\"rpan_new_volume_policy_web\",\"variant\":\"enabled\",\"version\":\"6\"},\"rpan_rebrand_v1_desktop\":{\"id\":1626,\"name\":\"rpan_rebrand_v1_desktop\",\"variant\":\"enabled\",\"version\":\"3\"},\"rpan_skip_intro\":{\"id\":514,\"name\":\"rpan_skip_intro\",\"variant\":\"enabled\",\"version\":\"6\"},\"search_instrumented_retries\":{\"id\":757,\"name\":\"search_instrumented_retries\",\"variant\":\"instrumented_retries\",\"version\":\"3\"},\"sendbird_k8s_proxy_reddit_rollout\":{\"id\":1550,\"name\":\"sendbird_k8s_proxy_reddit_rollout\",\"variant\":\"enabled\",\"version\":\"31\"},\"signup_auto_unsubscribe\":{\"id\":1581,\"name\":\"signup_auto_unsubscribe\",\"variant\":\"enabled\",\"version\":\"7\"},\"sr_recs_ads_whitelist\":{\"id\":1703,\"name\":\"sr_recs_ads_whitelist\",\"variant\":\"control_1\",\"version\":\"1\"},\"streaming_rpan_mab_ranking\":{\"id\":1313,\"name\":\"streaming_rpan_mab_ranking\",\"variant\":\"mab_converted_viewer_ranking\",\"version\":\"3\"},\"streaming_subreddit_integration\":{\"id\":576,\"name\":\"streaming_subreddit_integration\",\"variant\":\"enabled\",\"version\":\"12\"},\"streaming_ui_refresh_broadcaster\":{\"id\":800,\"name\":\"streaming_ui_refresh_broadcaster\",\"variant\":\"enabled\",\"version\":\"7\"},\"streaming_ui_refresh_viewer\":{\"id\":798,\"name\":\"streaming_ui_refresh_viewer\",\"variant\":\"enabled\",\"version\":\"6\"},\"streaming_view_pager_2\":{\"id\":968,\"name\":\"streaming_view_pager_2\",\"variant\":\"enabled\",\"version\":\"6\"},\"streaming_viewer_enabled\":{\"id\":510,\"name\":\"streaming_viewer_enabled\",\"variant\":\"bucket_1\",\"version\":\"17\"},\"taxonomy_mod_topics\":{\"id\":1584,\"name\":\"taxonomy_mod_topics\",\"variant\":\"enabled\",\"version\":\"2\"},\"taxonomy_mod_topics_cache_rollout\":{\"id\":1631,\"name\":\"taxonomy_mod_topics_cache_rollout\",\"variant\":\"enabled\",\"version\":\"49\"},\"trending_interest_v2_email_tos_screenviews\":{\"id\":1099,\"name\":\"trending_interest_v2_email_tos_screenviews\",\"variant\":\"tos_screenviews\",\"version\":\"14\"},\"trending_interest_v2_pn_tos_screenviews\":{\"id\":1094,\"name\":\"trending_interest_v2_pn_tos_screenviews\",\"variant\":\"tos_screenviews\",\"version\":\"14\"},\"typeahead_redesign\":{\"id\":48,\"name\":\"typeahead_redesign\",\"variant\":\"treatment_1\",\"version\":\"27\"},\"unanimate_profile_images\":{\"id\":1256,\"name\":\"unanimate_profile_images\",\"variant\":\"enabled\",\"version\":\"9\"},\"upvote_expiration\":{\"id\":656,\"name\":\"upvote_expiration\",\"variant\":\"16_weeks\",\"version\":\"6\"},\"verify_email_post\":{\"id\":1488,\"name\":\"verify_email_post\",\"variant\":\"enabled\",\"version\":\"3\"},\"verify_email_template_revamped\":{\"id\":1165,\"name\":\"verify_email_template_revamped\",\"variant\":\"enabled\",\"version\":\"8\"},\"video_new_volume_policy_android\":{\"id\":1080,\"name\":\"video_new_volume_policy_android\",\"variant\":\"feed_and_theatre\",\"version\":\"9\"},\"video_new_volume_policy_web\":{\"id\":1083,\"name\":\"video_new_volume_policy_web\",\"variant\":\"feed_and_theatre\",\"version\":\"2\"},\"video_pipedream_ranking\":{\"id\":1502,\"name\":\"video_pipedream_ranking\",\"variant\":\"enabled\",\"version\":\"20\"},\"viewer_feed_the_meter\":{\"id\":834,\"name\":\"viewer_feed_the_meter\",\"variant\":\"enabled\",\"version\":\"8\"},\"web_gold_coin_balance_upsell\":{\"id\":861,\"name\":\"web_gold_coin_balance_upsell\",\"variant\":\"low_coin_balance_offer\",\"version\":\"15\"}},\"localPersisted\":{}},\"googleOneTapEnabled\":false,\"isCustomizeFlyoutShowing\":false,\"topContentDismissalPrefsSet\":null,\"language\":\"en\",\"loid\":{\"blob\":\"Z0FBQUFBQmdFclVfSUhLczhfazZhSmQyMmJnVklrMGRweDVVWGlPdWtOa2VreV93dk5HZ0hGQlhfMl9VZEVWZlgxcjNCZUlSR0lqQi0zUFR1NXRJZmZMbmdTS3I3Z3pwX0NwRk82VUJWWllFYmZEY3FMTEZPVUQxMk5wNW1CSFNrakU5UmI2R0hvX1c\",\"loid\":\"0000000000a1diyfct\",\"loidCreated\":\"1611838783000\",\"version\":2},\"notificationPrefs\":{\"api\":{\"getPreferences\":{\"error\":null,\"loaded\":false,\"pending\":false},\"setPreferences\":{\"error\":null,\"loaded\":false,\"pending\":false}},\"emailSettingsLayout\":{\"sections\":{\"byId\":{},\"allIds\":[]},\"rows\":{\"byId\":{},\"allIds\":[]}},\"isNotificationPromptVisible\":false,\"preferences\":{\"broadcastFollower\":false,\"broadcastRecommendation\":false,\"chatMessages\":false,\"chatRequests\":false,\"commentReplies\":false,\"communityRecommendations\":false,\"liveEvent\":false,\"newPinnedPost\":false,\"postFlairAdded\":false,\"postReplies\":false,\"privateMessages\":false,\"threadReplies\":false,\"topLevelComment\":false,\"trendingPosts\":false,\"upvotedComments\":false,\"upvotedPosts\":false,\"userFlairAdded\":false,\"usernameMentions\":false,\"userNewFollowers\":false},\"pushSettingsLayout\":{\"sections\":{\"byId\":{},\"allIds\":[]},\"rows\":{\"byId\":{},\"allIds\":[]}}},\"ownedBadges\":{},\"powerups\":{\"allocationByKey\":{},\"data\":null,\"fetched\":false},\"prefs\":{\"activityRelevantAds\":true,\"allowClickTracking\":false,\"autoplayVideo\":true,\"collapsedTraySections\":{\"favorites\":false,\"multis\":false,\"moderating\":false,\"subscriptions\":false,\"profiles\":false},\"commentMode\":\"richtext\",\"layout\":\"card\",\"rememberCommunityLayout\":false,\"defaultCommentSort\":\"confidence\",\"editorMode\":\"richtext\",\"globalTheme\":\"REDDIT\",\"hasSeenCustomizeFlyout\":true,\"hideNSFW\":true,\"ignoreSuggestedSort\":false,\"labelNSFW\":true,\"lang\":\"en\",\"loginOtpEnabled\":false,\"markMessagesRead\":true,\"nightmode\":false,\"openPostInNewTab\":false,\"over18\":false,\"reduceAnimationsFromAwards\":false,\"showActiveCommunities\":true,\"showRpanDu\":true,\"showTwitter\":false,\"sort\":\"hot\",\"stylesEnabled\":true,\"subreddit\":{},\"thirdPartyDataPersonalizedAds\":true,\"thirdPartyPersonalizedAds\":true,\"thirdPartySiteDataPersonalizedAds\":true,\"thirdPartySiteDataPersonalizedContent\":true,\"showLocationBasedRecommendations\":true,\"topContentDismissalTime\":0,\"topContentTimesDismissed\":0,\"rememberCommunitySort\":false,\"useMarkdown\":false},\"reddaid\":\"\",\"session\":{\"accessToken\":\"-id_d0vqiiZm1yt8h3PZddsqSJo0\",\"expires\":\"2021-01-28T13:57:43.000Z\",\"expiresIn\":3479088,\"unsafeLoggedOut\":true,\"safe\":true},\"sessionRefreshFailed\":false,\"sessionTracker\":\"ZOuq2M1gM12op1dCkI.0.1611838784074.Z0FBQUFBQmdFclZBUE51VnIwMmp6WWwyY3Aza2FaS0tvT2R6VTRUenUwN2ZnbFFsVUZRMWwzZVdtM1BVRUVhaGdVcE85aXZ0WjlzOTV5N3lIYXNKTlBtWjZyWlVKd0c1YWVfN09nZ1o4MFk2NHNHYXNBM1FxelllZ0F0Nl9QdnpkTHZWUnBVeDBETV8\",\"temporaryGQL\":{\"isEmployee\":null,\"isLoggedIn\":false},\"wallets\":{},\"whitelist\":{\"api\":{},\"data\":[]}},\"userDataRequestPage\":{\"userDataRequestPageApi\":{\"error\":null,\"pending\":false,\"success\":false,\"userDataExportEligibility\":false}},\"userFlair\":{},\"users\":{\"api\":{\"error\":{},\"pending\":false},\"appliedBadges\":{},\"models\":{},\"nameAvailable\":{},\"publicWallets\":{},\"topAwarders\":{\"api\":{\"error\":null,\"pending\":false},\"currentPostId\":null,\"currentRank\":{},\"list\":{}},\"powerups\":{\"allocationByKey\":{},\"fetched\":false}},\"widgets\":{\"idCardIds\":{},\"menuIds\":{},\"models\":{},\"moderatorIds\":{},\"sidebar\":{}},\"features\":{\"removalReasons\":{\"api\":{\"error\":null,\"pending\":false},\"models\":{},\"reasonOrder\":{},\"removedItemIds\":null},\"econPurchase\":{\"subredditLockedCoins\":{}},\"banned\":{\"api\":{\"error\":null,\"pending\":{}},\"fetchedTokens\":{},\"inContext\":null,\"loadMore\":{},\"models\":{},\"search\":{\"api\":{\"error\":null,\"pending\":false},\"result\":null},\"userOrder\":{}},\"comments\":{\"collapsed\":{},\"drafts\":{},\"focused\":{},\"hidden\":{},\"isEditing\":{},\"models\":{},\"replyFormOpen\":{},\"submit\":{\"error\":{},\"pending\":{}},\"visitHighlightFilter\":\"Last\",\"newCommentsCount\":{}},\"categories\":{\"api\":{\"list\":{\"error\":null,\"loaded\":false,\"pending\":false},\"subreddits\":{\"error\":{},\"loaded\":{},\"pending\":{}}},\"ids\":[],\"models\":{},\"nameToId\":{},\"ranking\":{}},\"goldPurchase\":{\"packageOfferModal\":{\"packageId\":null},\"payment\":{\"cardName\":\"\",\"cardValidation\":{\"cardCvc\":\"\",\"cardExpiry\":\"\",\"cardNumber\":\"\",\"nameOnCard\":\"\",\"postalCode\":\"\"},\"paymentMethod\":\"paypal\",\"paypal\":{\"errorMessage\":null,\"passthrough\":\"\"},\"rememberCard\":true,\"savedCards\":[],\"savedCardsPending\":false,\"stripeToken\":{\"errorMessage\":null,\"pending\":false},\"useSavedCard\":null},\"powerupsPurchaseModal\":{\"freeReallocation\":{\"pending\":false,\"successful\":false,\"error\":false},\"powerupsCount\":1,\"isAnonymous\":false,\"purchaseCompleted\":false},\"premiumPurchaseModal\":{\"activePage\":\"selectPayment\",\"showModal\":false,\"packageId\":null},\"purchaseCatalog\":{\"activeSaleConfig\":null,\"api\":{\"errorMessage\":null,\"recommendedPending\":false,\"storefrontPending\":false},\"coinPackages\":{\"models\":{},\"dealPackageIds\":[],\"recommendedPackageIds\":[],\"storefrontPackageIds\":[]},\"freeAwardEvent\":null,\"premiumPackages\":[]},\"purchaseModal\":{\"activePage\":\"selectPayment\",\"correlationId\":null,\"gildThingId\":null,\"packageId\":null,\"showModal\":false},\"updateCardModal\":{\"pending\":false}},\"crypto\":{\"claims\":{}},\"predictions\":{\"leaderboards\":{}},\"reportFlow\":{\"api\":{\"error\":{},\"pending\":{},\"success\":{}},\"openedFromModalPage\":false,\"postOrCommentId\":null,\"userIsMod\":false,\"rulesCategory\":null}}};</script><script>\n          __perfMark('js_deps_fetch_start');\n        </script><script id=\"whitespace__LOADABLE_REQUIRED_CHUNKS__\" type=\"application/json\">[\"reddit-components-Root-IconFontLoaders-RedesignFont\",\"CollectionCommentsPage~CommentsPage~FramedGild~GildModal~GovernanceReleaseNotesModal~InFeedChaining~~a66c4d66\",\"ChatPost~CollectionCommentsPage~CommentsPage~EconTopAwardersModal~ModQueuePages~ModerationPages~Post~38f39fb8\",\"CollectionCommentsPage~CommentsPage~GovernanceReleaseNotesModal~InFeedChaining~ModerationPages~PostC~fd8b3c86\",\"CollectionCommentsPage~CommentsPage~ModerationPages~ProfileComments~ProfileOverview~ProfilePrivate~R~45fabc48\",\"CollectionCommentsPage~CommentsPage~ModerationPages~PostCreation~ProfileComments~ProfileOverview~Pro~2e044255\",\"CollectionCommentsPage~CommentsPage~Frontpage~ModListing~Multireddit~ProfileComments~ProfileOverview~933ffffc\",\"SearchResults\"]</script><script async=\"\" data-chunk=\"Reddit\" src=\"https://www.redditstatic.com/desktop2x/runtime~Reddit.79069f460ffd6e614969.js\"></script><script async=\"\" data-chunk=\"Reddit\" src=\"https://www.redditstatic.com/desktop2x/vendors~Chat~Governance~Reddit.12f1b85d5e26746a40e0.js\"></script><script async=\"\" data-chunk=\"Reddit\" src=\"https://www.redditstatic.com/desktop2x/vendors~PostCreation~Reddit.50bb84e3f35a622cce47.js\"></script><script async=\"\" data-chunk=\"Reddit\" src=\"https://www.redditstatic.com/desktop2x/PostCreation~Reddit~StandalonePostPage~reddit-components-ClassicPost~reddit-components-CompactPost~r~9f82fa34.0a069725cfd3c153c309.js\"></script><script async=\"\" data-chunk=\"Reddit\" src=\"https://www.redditstatic.com/desktop2x/Governance~Reddit~reddit-components-ClassicPost~reddit-components-CompactPost~reddit-components-Larg~9453fc9d.6f7a17b5fb55ee244a39.js\"></script><script async=\"\" data-chunk=\"Reddit\" src=\"https://www.redditstatic.com/desktop2x/Chat~Governance~Reddit.2f3ec2f8315d3b166917.js\"></script><script async=\"\" data-chunk=\"Reddit\" src=\"https://www.redditstatic.com/desktop2x/ModListing~Reddit~StandalonePostPage.524fa1ce6dae3926d315.js\"></script><script async=\"\" data-chunk=\"Reddit\" src=\"https://www.redditstatic.com/desktop2x/Governance~Reddit.caf7e83bd06e5688eff3.js\"></script><script async=\"\" data-chunk=\"Reddit\" src=\"https://www.redditstatic.com/desktop2x/Reddit.5118645d6ed1610278d9.js\"></script><script async=\"\" data-chunk=\"reddit-components-Root-IconFontLoaders-RedesignFont\" src=\"https://www.redditstatic.com/desktop2x/reddit-components-Root-IconFontLoaders-RedesignFont.15ccc10a1b4846394ff7.js\"></script><script async=\"\" data-chunk=\"SearchResults\" src=\"https://www.redditstatic.com/desktop2x/CollectionCommentsPage~CommentsPage~FramedGild~GildModal~GovernanceReleaseNotesModal~InFeedChaining~~a66c4d66.c74127c67238ab5f249b.js\"></script><script async=\"\" data-chunk=\"SearchResults\" src=\"https://www.redditstatic.com/desktop2x/ChatPost~CollectionCommentsPage~CommentsPage~EconTopAwardersModal~ModQueuePages~ModerationPages~Post~38f39fb8.28d9addd0833f36d468b.js\"></script><script async=\"\" data-chunk=\"SearchResults\" src=\"https://www.redditstatic.com/desktop2x/CollectionCommentsPage~CommentsPage~GovernanceReleaseNotesModal~InFeedChaining~ModerationPages~PostC~fd8b3c86.4f6d7aeca46c4953beb1.js\"></script><script async=\"\" data-chunk=\"SearchResults\" src=\"https://www.redditstatic.com/desktop2x/CollectionCommentsPage~CommentsPage~ModerationPages~ProfileComments~ProfileOverview~ProfilePrivate~R~45fabc48.07025918732fa5036e2a.js\"></script><script async=\"\" data-chunk=\"SearchResults\" src=\"https://www.redditstatic.com/desktop2x/CollectionCommentsPage~CommentsPage~ModerationPages~PostCreation~ProfileComments~ProfileOverview~Pro~2e044255.18541d65d3d3a913af0d.js\"></script><script async=\"\" data-chunk=\"SearchResults\" src=\"https://www.redditstatic.com/desktop2x/CollectionCommentsPage~CommentsPage~Frontpage~ModListing~Multireddit~ProfileComments~ProfileOverview~933ffffc.1c7c53bef1f455fb5218.js\"></script><script async=\"\" data-chunk=\"SearchResults\" src=\"https://www.redditstatic.com/desktop2x/SearchResults.e478d33c0d8ffa0b37c0.js\"></script>\n      </body>\n    </html>\n  \n"
     ]
    }
   ],
   "source": [
    "html = requests.get(url)   \n",
    "print(html.text)"
   ]
  },
  {
   "cell_type": "code",
   "execution_count": 39,
   "metadata": {},
   "outputs": [],
   "source": [
    "from selenium import webdriver\n",
    "driver = webdriver.Chrome(executable_path=r'/home/voileravi/chromedriver')\n",
    "driver.get(url)"
   ]
  },
  {
   "cell_type": "code",
   "execution_count": 45,
   "metadata": {},
   "outputs": [
    {
     "output_type": "error",
     "ename": "InvalidSessionIdException",
     "evalue": "Message: invalid session id\n",
     "traceback": [
      "\u001b[0;31m---------------------------------------------------------------------------\u001b[0m",
      "\u001b[0;31mInvalidSessionIdException\u001b[0m                 Traceback (most recent call last)",
      "\u001b[0;32m<ipython-input-45-077dde68675d>\u001b[0m in \u001b[0;36m<module>\u001b[0;34m\u001b[0m\n\u001b[1;32m      3\u001b[0m \u001b[0myesterday\u001b[0m \u001b[0;34m=\u001b[0m \u001b[0mdatetime\u001b[0m\u001b[0;34m.\u001b[0m\u001b[0mtoday\u001b[0m\u001b[0;34m(\u001b[0m\u001b[0;34m)\u001b[0m \u001b[0;34m-\u001b[0m \u001b[0mtimedelta\u001b[0m\u001b[0;34m(\u001b[0m\u001b[0mdays\u001b[0m\u001b[0;34m=\u001b[0m\u001b[0;36m1\u001b[0m\u001b[0;34m)\u001b[0m\u001b[0;34m\u001b[0m\u001b[0;34m\u001b[0m\u001b[0m\n\u001b[1;32m      4\u001b[0m \u001b[0;34m\u001b[0m\u001b[0m\n\u001b[0;32m----> 5\u001b[0;31m \u001b[0mlinks\u001b[0m \u001b[0;34m=\u001b[0m \u001b[0mdriver\u001b[0m\u001b[0;34m.\u001b[0m\u001b[0mfind_elements_by_xpath\u001b[0m\u001b[0;34m(\u001b[0m\u001b[0;34m'//*[@class=\"_eYtD2XCVieq6emjKBH3m\"]'\u001b[0m\u001b[0;34m)\u001b[0m\u001b[0;34m\u001b[0m\u001b[0;34m\u001b[0m\u001b[0m\n\u001b[0m\u001b[1;32m      6\u001b[0m \u001b[0;34m\u001b[0m\u001b[0m\n\u001b[1;32m      7\u001b[0m \u001b[0;32mfor\u001b[0m \u001b[0ma\u001b[0m \u001b[0;32min\u001b[0m \u001b[0mlinks\u001b[0m\u001b[0;34m:\u001b[0m\u001b[0;34m\u001b[0m\u001b[0;34m\u001b[0m\u001b[0m\n",
      "\u001b[0;32m~/anaconda3/lib/python3.8/site-packages/selenium/webdriver/remote/webdriver.py\u001b[0m in \u001b[0;36mfind_elements_by_xpath\u001b[0;34m(self, xpath)\u001b[0m\n\u001b[1;32m    408\u001b[0m             \u001b[0melements\u001b[0m \u001b[0;34m=\u001b[0m \u001b[0mdriver\u001b[0m\u001b[0;34m.\u001b[0m\u001b[0mfind_elements_by_xpath\u001b[0m\u001b[0;34m(\u001b[0m\u001b[0;34m\"//div[contains(@class, 'foo')]\"\u001b[0m\u001b[0;34m)\u001b[0m\u001b[0;34m\u001b[0m\u001b[0;34m\u001b[0m\u001b[0m\n\u001b[1;32m    409\u001b[0m         \"\"\"\n\u001b[0;32m--> 410\u001b[0;31m         \u001b[0;32mreturn\u001b[0m \u001b[0mself\u001b[0m\u001b[0;34m.\u001b[0m\u001b[0mfind_elements\u001b[0m\u001b[0;34m(\u001b[0m\u001b[0mby\u001b[0m\u001b[0;34m=\u001b[0m\u001b[0mBy\u001b[0m\u001b[0;34m.\u001b[0m\u001b[0mXPATH\u001b[0m\u001b[0;34m,\u001b[0m \u001b[0mvalue\u001b[0m\u001b[0;34m=\u001b[0m\u001b[0mxpath\u001b[0m\u001b[0;34m)\u001b[0m\u001b[0;34m\u001b[0m\u001b[0;34m\u001b[0m\u001b[0m\n\u001b[0m\u001b[1;32m    411\u001b[0m \u001b[0;34m\u001b[0m\u001b[0m\n\u001b[1;32m    412\u001b[0m     \u001b[0;32mdef\u001b[0m \u001b[0mfind_element_by_link_text\u001b[0m\u001b[0;34m(\u001b[0m\u001b[0mself\u001b[0m\u001b[0;34m,\u001b[0m \u001b[0mlink_text\u001b[0m\u001b[0;34m)\u001b[0m\u001b[0;34m:\u001b[0m\u001b[0;34m\u001b[0m\u001b[0;34m\u001b[0m\u001b[0m\n",
      "\u001b[0;32m~/anaconda3/lib/python3.8/site-packages/selenium/webdriver/remote/webdriver.py\u001b[0m in \u001b[0;36mfind_elements\u001b[0;34m(self, by, value)\u001b[0m\n\u001b[1;32m   1003\u001b[0m         \u001b[0;31m# Return empty list if driver returns null\u001b[0m\u001b[0;34m\u001b[0m\u001b[0;34m\u001b[0m\u001b[0;34m\u001b[0m\u001b[0m\n\u001b[1;32m   1004\u001b[0m         \u001b[0;31m# See https://github.com/SeleniumHQ/selenium/issues/4555\u001b[0m\u001b[0;34m\u001b[0m\u001b[0;34m\u001b[0m\u001b[0;34m\u001b[0m\u001b[0m\n\u001b[0;32m-> 1005\u001b[0;31m         return self.execute(Command.FIND_ELEMENTS, {\n\u001b[0m\u001b[1;32m   1006\u001b[0m             \u001b[0;34m'using'\u001b[0m\u001b[0;34m:\u001b[0m \u001b[0mby\u001b[0m\u001b[0;34m,\u001b[0m\u001b[0;34m\u001b[0m\u001b[0;34m\u001b[0m\u001b[0m\n\u001b[1;32m   1007\u001b[0m             'value': value})['value'] or []\n",
      "\u001b[0;32m~/anaconda3/lib/python3.8/site-packages/selenium/webdriver/remote/webdriver.py\u001b[0m in \u001b[0;36mexecute\u001b[0;34m(self, driver_command, params)\u001b[0m\n\u001b[1;32m    319\u001b[0m         \u001b[0mresponse\u001b[0m \u001b[0;34m=\u001b[0m \u001b[0mself\u001b[0m\u001b[0;34m.\u001b[0m\u001b[0mcommand_executor\u001b[0m\u001b[0;34m.\u001b[0m\u001b[0mexecute\u001b[0m\u001b[0;34m(\u001b[0m\u001b[0mdriver_command\u001b[0m\u001b[0;34m,\u001b[0m \u001b[0mparams\u001b[0m\u001b[0;34m)\u001b[0m\u001b[0;34m\u001b[0m\u001b[0;34m\u001b[0m\u001b[0m\n\u001b[1;32m    320\u001b[0m         \u001b[0;32mif\u001b[0m \u001b[0mresponse\u001b[0m\u001b[0;34m:\u001b[0m\u001b[0;34m\u001b[0m\u001b[0;34m\u001b[0m\u001b[0m\n\u001b[0;32m--> 321\u001b[0;31m             \u001b[0mself\u001b[0m\u001b[0;34m.\u001b[0m\u001b[0merror_handler\u001b[0m\u001b[0;34m.\u001b[0m\u001b[0mcheck_response\u001b[0m\u001b[0;34m(\u001b[0m\u001b[0mresponse\u001b[0m\u001b[0;34m)\u001b[0m\u001b[0;34m\u001b[0m\u001b[0;34m\u001b[0m\u001b[0m\n\u001b[0m\u001b[1;32m    322\u001b[0m             response['value'] = self._unwrap_value(\n\u001b[1;32m    323\u001b[0m                 response.get('value', None))\n",
      "\u001b[0;32m~/anaconda3/lib/python3.8/site-packages/selenium/webdriver/remote/errorhandler.py\u001b[0m in \u001b[0;36mcheck_response\u001b[0;34m(self, response)\u001b[0m\n\u001b[1;32m    240\u001b[0m                 \u001b[0malert_text\u001b[0m \u001b[0;34m=\u001b[0m \u001b[0mvalue\u001b[0m\u001b[0;34m[\u001b[0m\u001b[0;34m'alert'\u001b[0m\u001b[0;34m]\u001b[0m\u001b[0;34m.\u001b[0m\u001b[0mget\u001b[0m\u001b[0;34m(\u001b[0m\u001b[0;34m'text'\u001b[0m\u001b[0;34m)\u001b[0m\u001b[0;34m\u001b[0m\u001b[0;34m\u001b[0m\u001b[0m\n\u001b[1;32m    241\u001b[0m             \u001b[0;32mraise\u001b[0m \u001b[0mexception_class\u001b[0m\u001b[0;34m(\u001b[0m\u001b[0mmessage\u001b[0m\u001b[0;34m,\u001b[0m \u001b[0mscreen\u001b[0m\u001b[0;34m,\u001b[0m \u001b[0mstacktrace\u001b[0m\u001b[0;34m,\u001b[0m \u001b[0malert_text\u001b[0m\u001b[0;34m)\u001b[0m\u001b[0;34m\u001b[0m\u001b[0;34m\u001b[0m\u001b[0m\n\u001b[0;32m--> 242\u001b[0;31m         \u001b[0;32mraise\u001b[0m \u001b[0mexception_class\u001b[0m\u001b[0;34m(\u001b[0m\u001b[0mmessage\u001b[0m\u001b[0;34m,\u001b[0m \u001b[0mscreen\u001b[0m\u001b[0;34m,\u001b[0m \u001b[0mstacktrace\u001b[0m\u001b[0;34m)\u001b[0m\u001b[0;34m\u001b[0m\u001b[0;34m\u001b[0m\u001b[0m\n\u001b[0m\u001b[1;32m    243\u001b[0m \u001b[0;34m\u001b[0m\u001b[0m\n\u001b[1;32m    244\u001b[0m     \u001b[0;32mdef\u001b[0m \u001b[0m_value_or_default\u001b[0m\u001b[0;34m(\u001b[0m\u001b[0mself\u001b[0m\u001b[0;34m,\u001b[0m \u001b[0mobj\u001b[0m\u001b[0;34m,\u001b[0m \u001b[0mkey\u001b[0m\u001b[0;34m,\u001b[0m \u001b[0mdefault\u001b[0m\u001b[0;34m)\u001b[0m\u001b[0;34m:\u001b[0m\u001b[0;34m\u001b[0m\u001b[0;34m\u001b[0m\u001b[0m\n",
      "\u001b[0;31mInvalidSessionIdException\u001b[0m: Message: invalid session id\n"
     ]
    }
   ],
   "source": [
    "from datetime import datetime, date, timedelta\n",
    "from dateutil.parser import parse \n",
    "yesterday = datetime.today() - timedelta(days=1)\n",
    "\n",
    "links = driver.find_elements_by_xpath('//*[@class=\"_eYtD2XCVieq6emjKBH3m\"]')\n",
    "\n",
    "for a in links:\n",
    "    if a.text.startswith('Daily Discussion Thread'):\n",
    "        date = \"\".join(a.text.split(' ')[4:6])\n",
    "        parsed = parse(date) \n",
    "        if parse(str(yesterday.date())) == parsed:\n",
    "            link = a.find_element_by_xpath('../..').get_attribute('href')\n",
    "    if a.text.startswith('Weekend'):\n",
    "        weekend_date = a.text.split(' ')\n",
    "        parsed_date = weekend_date[-3] + ' ' + weekend_date[-2] + weekend_date[-1] \n",
    "        parsed = parse(parsed_date) \n",
    "        saturday = weekend_date[-3] + ' ' +  str(int(weekend_date[-2].replace(',','')) - 1) + ' ' + weekend_date[-1] \n",
    "        \n",
    "        if parse(str(yesterday.date())) == parsed: \n",
    "            link = a.find_element_by_xpath('../..').get_attribute('href')\n",
    "        elif parse(str(yesterday.date())) == parse(str(saturday)):\n",
    "            link = a.find_element_by_xpath('../..').get_attribute('href') \n",
    "\n",
    "stock_link = link.split('/')[-3]"
   ]
  },
  {
   "cell_type": "code",
   "execution_count": 41,
   "metadata": {},
   "outputs": [],
   "source": [
    "html = requests.get(f'https://api.pushshift.io/reddit/submission/comment_ids/{stock_link}')\n",
    "raw_comment_list = html.json()\n",
    "driver.close() "
   ]
  },
  {
   "cell_type": "code",
   "execution_count": 42,
   "metadata": {},
   "outputs": [],
   "source": [
    "r = requests.get('https://finnhub.io/api/v1/stock/symbol?exchange=US&token=')\n",
    "stocks = r.json()\n",
    "stocks_list = []\n",
    "for a in stocks:\n",
    "    stocks_list.append(' ' + a['symbol'] + ' ')"
   ]
  },
  {
   "cell_type": "code",
   "execution_count": 43,
   "metadata": {},
   "outputs": [
    {
     "output_type": "error",
     "ename": "JSONDecodeError",
     "evalue": "Expecting value: line 1 column 1 (char 0)",
     "traceback": [
      "\u001b[0;31m---------------------------------------------------------------------------\u001b[0m",
      "\u001b[0;31mJSONDecodeError\u001b[0m                           Traceback (most recent call last)",
      "\u001b[0;32m<ipython-input-43-96ce9391d000>\u001b[0m in \u001b[0;36m<module>\u001b[0;34m\u001b[0m\n\u001b[1;32m      1\u001b[0m \u001b[0mhtml\u001b[0m \u001b[0;34m=\u001b[0m \u001b[0mrequests\u001b[0m\u001b[0;34m.\u001b[0m\u001b[0mget\u001b[0m\u001b[0;34m(\u001b[0m\u001b[0;34mf'https://api.pushshift.io/reddit/comment/search?ids={comment_list}&fields=body&size=1000'\u001b[0m\u001b[0;34m)\u001b[0m\u001b[0;34m\u001b[0m\u001b[0;34m\u001b[0m\u001b[0m\n\u001b[1;32m      2\u001b[0m \u001b[0;34m\u001b[0m\u001b[0m\n\u001b[0;32m----> 3\u001b[0;31m \u001b[0mnewcomments\u001b[0m \u001b[0;34m=\u001b[0m \u001b[0mhtml\u001b[0m\u001b[0;34m.\u001b[0m\u001b[0mjson\u001b[0m\u001b[0;34m(\u001b[0m\u001b[0;34m)\u001b[0m\u001b[0;34m\u001b[0m\u001b[0;34m\u001b[0m\u001b[0m\n\u001b[0m",
      "\u001b[0;32m~/anaconda3/lib/python3.8/site-packages/requests/models.py\u001b[0m in \u001b[0;36mjson\u001b[0;34m(self, **kwargs)\u001b[0m\n\u001b[1;32m    896\u001b[0m                     \u001b[0;31m# used.\u001b[0m\u001b[0;34m\u001b[0m\u001b[0;34m\u001b[0m\u001b[0;34m\u001b[0m\u001b[0m\n\u001b[1;32m    897\u001b[0m                     \u001b[0;32mpass\u001b[0m\u001b[0;34m\u001b[0m\u001b[0;34m\u001b[0m\u001b[0m\n\u001b[0;32m--> 898\u001b[0;31m         \u001b[0;32mreturn\u001b[0m \u001b[0mcomplexjson\u001b[0m\u001b[0;34m.\u001b[0m\u001b[0mloads\u001b[0m\u001b[0;34m(\u001b[0m\u001b[0mself\u001b[0m\u001b[0;34m.\u001b[0m\u001b[0mtext\u001b[0m\u001b[0;34m,\u001b[0m \u001b[0;34m**\u001b[0m\u001b[0mkwargs\u001b[0m\u001b[0;34m)\u001b[0m\u001b[0;34m\u001b[0m\u001b[0;34m\u001b[0m\u001b[0m\n\u001b[0m\u001b[1;32m    899\u001b[0m \u001b[0;34m\u001b[0m\u001b[0m\n\u001b[1;32m    900\u001b[0m     \u001b[0;34m@\u001b[0m\u001b[0mproperty\u001b[0m\u001b[0;34m\u001b[0m\u001b[0;34m\u001b[0m\u001b[0m\n",
      "\u001b[0;32m~/anaconda3/lib/python3.8/json/__init__.py\u001b[0m in \u001b[0;36mloads\u001b[0;34m(s, cls, object_hook, parse_float, parse_int, parse_constant, object_pairs_hook, **kw)\u001b[0m\n\u001b[1;32m    355\u001b[0m             \u001b[0mparse_int\u001b[0m \u001b[0;32mis\u001b[0m \u001b[0;32mNone\u001b[0m \u001b[0;32mand\u001b[0m \u001b[0mparse_float\u001b[0m \u001b[0;32mis\u001b[0m \u001b[0;32mNone\u001b[0m \u001b[0;32mand\u001b[0m\u001b[0;34m\u001b[0m\u001b[0;34m\u001b[0m\u001b[0m\n\u001b[1;32m    356\u001b[0m             parse_constant is None and object_pairs_hook is None and not kw):\n\u001b[0;32m--> 357\u001b[0;31m         \u001b[0;32mreturn\u001b[0m \u001b[0m_default_decoder\u001b[0m\u001b[0;34m.\u001b[0m\u001b[0mdecode\u001b[0m\u001b[0;34m(\u001b[0m\u001b[0ms\u001b[0m\u001b[0;34m)\u001b[0m\u001b[0;34m\u001b[0m\u001b[0;34m\u001b[0m\u001b[0m\n\u001b[0m\u001b[1;32m    358\u001b[0m     \u001b[0;32mif\u001b[0m \u001b[0mcls\u001b[0m \u001b[0;32mis\u001b[0m \u001b[0;32mNone\u001b[0m\u001b[0;34m:\u001b[0m\u001b[0;34m\u001b[0m\u001b[0;34m\u001b[0m\u001b[0m\n\u001b[1;32m    359\u001b[0m         \u001b[0mcls\u001b[0m \u001b[0;34m=\u001b[0m \u001b[0mJSONDecoder\u001b[0m\u001b[0;34m\u001b[0m\u001b[0;34m\u001b[0m\u001b[0m\n",
      "\u001b[0;32m~/anaconda3/lib/python3.8/json/decoder.py\u001b[0m in \u001b[0;36mdecode\u001b[0;34m(self, s, _w)\u001b[0m\n\u001b[1;32m    335\u001b[0m \u001b[0;34m\u001b[0m\u001b[0m\n\u001b[1;32m    336\u001b[0m         \"\"\"\n\u001b[0;32m--> 337\u001b[0;31m         \u001b[0mobj\u001b[0m\u001b[0;34m,\u001b[0m \u001b[0mend\u001b[0m \u001b[0;34m=\u001b[0m \u001b[0mself\u001b[0m\u001b[0;34m.\u001b[0m\u001b[0mraw_decode\u001b[0m\u001b[0;34m(\u001b[0m\u001b[0ms\u001b[0m\u001b[0;34m,\u001b[0m \u001b[0midx\u001b[0m\u001b[0;34m=\u001b[0m\u001b[0m_w\u001b[0m\u001b[0;34m(\u001b[0m\u001b[0ms\u001b[0m\u001b[0;34m,\u001b[0m \u001b[0;36m0\u001b[0m\u001b[0;34m)\u001b[0m\u001b[0;34m.\u001b[0m\u001b[0mend\u001b[0m\u001b[0;34m(\u001b[0m\u001b[0;34m)\u001b[0m\u001b[0;34m)\u001b[0m\u001b[0;34m\u001b[0m\u001b[0;34m\u001b[0m\u001b[0m\n\u001b[0m\u001b[1;32m    338\u001b[0m         \u001b[0mend\u001b[0m \u001b[0;34m=\u001b[0m \u001b[0m_w\u001b[0m\u001b[0;34m(\u001b[0m\u001b[0ms\u001b[0m\u001b[0;34m,\u001b[0m \u001b[0mend\u001b[0m\u001b[0;34m)\u001b[0m\u001b[0;34m.\u001b[0m\u001b[0mend\u001b[0m\u001b[0;34m(\u001b[0m\u001b[0;34m)\u001b[0m\u001b[0;34m\u001b[0m\u001b[0;34m\u001b[0m\u001b[0m\n\u001b[1;32m    339\u001b[0m         \u001b[0;32mif\u001b[0m \u001b[0mend\u001b[0m \u001b[0;34m!=\u001b[0m \u001b[0mlen\u001b[0m\u001b[0;34m(\u001b[0m\u001b[0ms\u001b[0m\u001b[0;34m)\u001b[0m\u001b[0;34m:\u001b[0m\u001b[0;34m\u001b[0m\u001b[0;34m\u001b[0m\u001b[0m\n",
      "\u001b[0;32m~/anaconda3/lib/python3.8/json/decoder.py\u001b[0m in \u001b[0;36mraw_decode\u001b[0;34m(self, s, idx)\u001b[0m\n\u001b[1;32m    353\u001b[0m             \u001b[0mobj\u001b[0m\u001b[0;34m,\u001b[0m \u001b[0mend\u001b[0m \u001b[0;34m=\u001b[0m \u001b[0mself\u001b[0m\u001b[0;34m.\u001b[0m\u001b[0mscan_once\u001b[0m\u001b[0;34m(\u001b[0m\u001b[0ms\u001b[0m\u001b[0;34m,\u001b[0m \u001b[0midx\u001b[0m\u001b[0;34m)\u001b[0m\u001b[0;34m\u001b[0m\u001b[0;34m\u001b[0m\u001b[0m\n\u001b[1;32m    354\u001b[0m         \u001b[0;32mexcept\u001b[0m \u001b[0mStopIteration\u001b[0m \u001b[0;32mas\u001b[0m \u001b[0merr\u001b[0m\u001b[0;34m:\u001b[0m\u001b[0;34m\u001b[0m\u001b[0;34m\u001b[0m\u001b[0m\n\u001b[0;32m--> 355\u001b[0;31m             \u001b[0;32mraise\u001b[0m \u001b[0mJSONDecodeError\u001b[0m\u001b[0;34m(\u001b[0m\u001b[0;34m\"Expecting value\"\u001b[0m\u001b[0;34m,\u001b[0m \u001b[0ms\u001b[0m\u001b[0;34m,\u001b[0m \u001b[0merr\u001b[0m\u001b[0;34m.\u001b[0m\u001b[0mvalue\u001b[0m\u001b[0;34m)\u001b[0m \u001b[0;32mfrom\u001b[0m \u001b[0;32mNone\u001b[0m\u001b[0;34m\u001b[0m\u001b[0;34m\u001b[0m\u001b[0m\n\u001b[0m\u001b[1;32m    356\u001b[0m         \u001b[0;32mreturn\u001b[0m \u001b[0mobj\u001b[0m\u001b[0;34m,\u001b[0m \u001b[0mend\u001b[0m\u001b[0;34m\u001b[0m\u001b[0;34m\u001b[0m\u001b[0m\n",
      "\u001b[0;31mJSONDecodeError\u001b[0m: Expecting value: line 1 column 1 (char 0)"
     ]
    }
   ],
   "source": [
    "html = requests.get(f'https://api.pushshift.io/reddit/comment/search?ids={comment_list}&fields=body&size=1000')\n",
    "\n",
    "newcomments = html.json()"
   ]
  },
  {
   "cell_type": "code",
   "execution_count": 36,
   "metadata": {},
   "outputs": [],
   "source": [
    "stock_dict = Counter()\n",
    "for a in newcomments['data']:\n",
    "    for ticker in stocks_list:\n",
    "        if ticker in a['body']:\n",
    "            stock_dict[ticker]+=1\n"
   ]
  },
  {
   "cell_type": "code",
   "execution_count": 37,
   "metadata": {},
   "outputs": [],
   "source": [
    "orig_list = np.array(raw_comment_list['data'])\n",
    "comment_list = \",\".join(orig_list[0:2000])\n",
    "remove_me = slice(0,2000)\n",
    "cleaned = np.delete(comment_list, remove_me)\n",
    "i = 0\n",
    "while i < len(cleaned):\n",
    "    print(len(cleaned))\n",
    "    cleaned = np.delete(cleaned, remove_me)\n",
    "    new_comments_list = \",\".join(cleaned[0:2000])\n",
    "    newcomments = get_comments(new_comments_list)\n",
    "    get_stock_list(newcomments,stock_dict)\n",
    "stock = dict(stock_dict) "
   ]
  },
  {
   "cell_type": "code",
   "execution_count": 27,
   "metadata": {},
   "outputs": [],
   "source": [
    "data = list(sorted(stock.items(), key=lambda x: x[1], reverse=True))\n",
    "#    data = list(zip((stock.keys()),sorted(stock.values())))\n",
    "with open('stock.csv','w') as w:\n",
    "    writer = csv.writer(w, lineterminator='\\n')\n",
    "    writer.writerow(['Stock','Number of Mentions'])\n",
    "    for a in data:\n",
    "        writer.writerow(a)"
   ]
  },
  {
   "cell_type": "code",
   "execution_count": null,
   "metadata": {},
   "outputs": [],
   "source": []
  }
 ]
}